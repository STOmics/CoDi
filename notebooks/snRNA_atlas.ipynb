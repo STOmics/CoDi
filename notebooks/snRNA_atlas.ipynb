{
 "cells": [
  {
   "cell_type": "code",
   "execution_count": 1,
   "id": "7434bcb1-f550-407d-9c5a-e04d4a15c4dd",
   "metadata": {},
   "outputs": [],
   "source": [
    "import scanpy as sc\n",
    "import pandas as pd\n",
    "import matplotlib.pyplot as plt\n",
    "import seaborn as sns\n",
    "from sklearn.metrics.cluster import contingency_matrix\n",
    "import numpy as np\n",
    "from sklearn.metrics import accuracy_score\n",
    "from collections import Counter\n",
    "from glob import glob\n",
    "# https://gtexportal.org/home/downloads/adult-gtex/single_cell"
   ]
  },
  {
   "cell_type": "code",
   "execution_count": 3,
   "id": "f2c309c6-712f-4b5f-b9e9-c7d34ada1b19",
   "metadata": {},
   "outputs": [
    {
     "data": {
      "text/plain": [
       "AnnData object with n_obs × n_vars = 209126 × 17695\n",
       "    obs: 'n_genes', 'fpr', 'tissue', 'prep', 'individual', 'nGenes', 'nUMIs', 'PercentMito', 'PercentRibo', 'Age_bin', 'Sex', 'Sample ID', 'Participant ID', 'Sample ID short', 'RIN score from PAXgene tissue Aliquot', 'RIN score from Frozen tissue Aliquot', 'Autolysis Score', 'Sample Ischemic Time (mins)', 'Tissue Site Detail', 'scrublet', 'scrublet_score', 'barcode', 'batch', 'n_counts', 'tissue-individual-prep', 'Broad cell type', 'Granular cell type', 'introns', 'junctions', 'exons', 'sense', 'antisense', 'intergenic', 'batch-barcode', 'exon_ratio', 'intron_ratio', 'junction_ratio', 'log10_nUMIs', 'leiden', 'leiden_tissue', 'Tissue composition', 'Cell types level 2', 'Cell types level 3', 'Broad cell type numbers', 'Broad cell type (numbers)', 'Tissue', 'channel'\n",
       "    var: 'gene_ids', 'Chromosome', 'Source', 'Start', 'End', 'Strand', 'gene_name', 'gene_source', 'gene_biotype', 'gene_length', 'gene_coding_length', 'Approved symbol', 'Approved name', 'Status', 'Previous symbols', 'Alias symbols', 'gene_include', 'n_cells'\n",
       "    uns: 'Broad cell type (numbers)_colors', 'Broad cell type numbers_colors', 'Broad cell type_colors', 'Broad cell type_logregcv_vae_colors', 'Broad cell type_sizes', 'Granular cell type_colors', 'Participant ID_colors', 'Sex_colors', 'Tissue composition_colors', 'Tissue_colors', \"dendrogram_['Broad cell type']\", 'leiden', 'leiden_colors', 'leiden_sub_colors', 'neighbors', 'paga', 'prep_colors', 'tissue_colors', 'umap'\n",
       "    obsm: 'X_pca', 'X_umap', 'X_umap_tissue', 'X_vae_mean', 'X_vae_mean_tissue', 'X_vae_samples', 'X_vae_var'\n",
       "    varm: 'spring_leiden_sub'\n",
       "    layers: 'counts'\n",
       "    obsp: 'connectivities', 'distances'"
      ]
     },
     "execution_count": 3,
     "metadata": {},
     "output_type": "execute_result"
    }
   ],
   "source": [
    "adata = sc.read_h5ad('/home/vlada/ssi/results/GTEx_8_tissues_snRNAseq_atlas_071421.public_obs.h5ad')\n",
    "adata"
   ]
  },
  {
   "cell_type": "code",
   "execution_count": 6,
   "id": "d5afdbaa-2a7d-42c9-ab2a-ae2b08603981",
   "metadata": {},
   "outputs": [],
   "source": [
    "# GTEX-1R9PN-5002\n",
    "subset = adata[adata.obs['Sample ID short'] == 'GTEX-1R9PN-5002'].copy()\n",
    "subset.write_h5ad('GTEX-1R9PN-5002.h5ad', compression='gzip')"
   ]
  },
  {
   "cell_type": "code",
   "execution_count": 8,
   "id": "aff40bed-02c4-40e3-bfa2-8198a2a56d22",
   "metadata": {},
   "outputs": [],
   "source": [
    "sample = 'GTEX-1HSMQ-5005'\n",
    "subset = adata[adata.obs['Sample ID short'] == sample].copy()\n",
    "subset.write_h5ad(sample + '.h5ad', compression='gzip')"
   ]
  },
  {
   "cell_type": "code",
   "execution_count": 9,
   "id": "6f6c075e-e076-411b-9862-1be06cf3d39b",
   "metadata": {},
   "outputs": [
    {
     "data": {
      "text/plain": [
       "14404"
      ]
     },
     "execution_count": 9,
     "metadata": {},
     "output_type": "execute_result"
    }
   ],
   "source": [
    "len(subset)"
   ]
  },
  {
   "cell_type": "code",
   "execution_count": 34,
   "id": "561c84b0-6fd4-4bdb-93e5-f944c145f822",
   "metadata": {},
   "outputs": [],
   "source": [
    "# Separate samples to different files so we can run them with CoDi\n",
    "for sample in ['GTEX-1R9PN-5002']: \n",
    "    subset = adata[adata.obs['Sample ID short'] == sample].copy()\n",
    "    subset.write_h5ad(sample + '.h5ad', compression='gzip')\n"
   ]
  },
  {
   "cell_type": "code",
   "execution_count": null,
   "id": "f1043d70-1a6f-4452-9032-e99b1635f581",
   "metadata": {},
   "outputs": [],
   "source": [
    "# python CoDi.py --st_path notebooks/GTEX-1HSMQ-5011.h5ad  --sc_path notebooks/GTEX-1HSMQ-5011.h5ad -a \"Cell types level 2\" --contrastive --num_markers 300 --augmentation_perc 0\n",
    "# python CoDi.py --st_path notebooks/GTEX-15RIE-5021.h5ad  --sc_path notebooks/GTEX-1HSMQ-5011.h5ad -a \"Cell types level 2\" --contrastive --num_markers 300 --augmentation_perc 0\n",
    "# python CoDi.py --st_path notebooks/GTEX-145ME-5018.h5ad  --sc_path notebooks/GTEX-1HSMQ-5011.h5ad -a \"Cell types level 2\" --contrastive --num_markers 300 --augmentation_perc 0\n",
    "\n",
    "# python CoDi.py --st_path notebooks/GTEX-1R9PN-5002.h5ad --sc_path notebooks/GTEX-1R9PN-5002.h5ad -a \"Cell types level 2\" --contrastive --num_markers 300 --augmentation_perc 0\n",
    "# python CoDi.py --st_path notebooks/GTEX-1CAMS-5015.h5ad --sc_path notebooks/GTEX-1R9PN-5002.h5ad -a \"Cell types level 2\" --contrastive --num_markers 300 --augmentation_perc 0\n",
    "# python CoDi.py --st_path notebooks/GTEX-1MCC2-5013.h5ad --sc_path notebooks/GTEX-1R9PN-5002.h5ad -a \"Cell types level 2\" --contrastive --num_markers 300 --augmentation_perc 0\n",
    "\n",
    "# python CoDi.py --st_path notebooks/GTEX-16BQI-5013.h5ad --sc_path notebooks/GTEX-16BQI-5013.h5ad -a \"Cell types level 2\" --contrastive --num_markers 300 --augmentation_perc 0\n",
    "# python CoDi.py --st_path notebooks/GTEX-15SB6-5008.h5ad --sc_path notebooks/GTEX-16BQI-5013.h5ad -a \"Cell types level 2\" --contrastive --num_markers 300 --augmentation_perc 0\n",
    "# python CoDi.py --st_path notebooks/GTEX-145ME-5005.h5ad --sc_path notebooks/GTEX-16BQI-5013.h5ad -a \"Cell types level 2\" --contrastive --num_markers 300 --augmentation_perc 0\n",
    "# # esophagusmuscularis:\n",
    "# python CoDi.py --st_path notebooks/GTEX-1ICG6-5014.h5ad --sc_path notebooks/GTEX-1ICG6-5014.h5ad -a \"Cell types level 2\" --contrastive --num_markers 300 --augmentation_perc 0\n",
    "# python CoDi.py --st_path notebooks/GTEX-144GM-5010.h5ad --sc_path notebooks/GTEX-1ICG6-5014.h5ad -a \"Cell types level 2\" --contrastive --num_markers 300 --augmentation_perc 0\n",
    "# python CoDi.py --st_path notebooks/GTEX-1HSMQ-5021.h5ad --sc_path notebooks/GTEX-1ICG6-5014.h5ad -a \"Cell types level 2\" --contrastive --num_markers 300 --augmentation_perc 0\n",
    "\n",
    "# # heart\n",
    "# python CoDi.py --st_path notebooks/GTEX-1ICG6-5003.h5ad --sc_path notebooks/GTEX-1ICG6-5003.h5ad -a \"Cell types level 2\" --contrastive --num_markers 300 --augmentation_perc 0\n",
    "# python CoDi.py --st_path notebooks/GTEX-13N11-5002.h5ad --sc_path notebooks/GTEX-1ICG6-5003.h5ad -a \"Cell types level 2\" --contrastive --num_markers 300 --augmentation_perc 0\n",
    "# python CoDi.py --st_path notebooks/GTEX-15RIE-5015.h5ad --sc_path notebooks/GTEX-1ICG6-5003.h5ad -a \"Cell types level 2\" --contrastive --num_markers 300 --augmentation_perc 0\n",
    "# #\n",
    "# # lung\n",
    "# python CoDi.py --st_path notebooks/GTEX-1HSMQ-5005.h5ad --sc_path notebooks/GTEX-1HSMQ-5005.h5ad -a \"Cell types level 2\" --contrastive --num_markers 300 --augmentation_perc 0\n",
    "# python CoDi.py --st_path notebooks/GTEX-15CHR-5005.h5ad --sc_path notebooks/GTEX-1HSMQ-5005.h5ad -a \"Cell types level 2\" --contrastive --num_markers 300 --augmentation_perc 0\n",
    "# python CoDi.py --st_path notebooks/GTEX-13N11-5030.h5ad --sc_path notebooks/GTEX-1HSMQ-5005.h5ad -a \"Cell types level 2\" --contrastive --num_markers 300 --augmentation_perc 0\n",
    "\n",
    "# # prostate\n",
    "# python CoDi.py --st_path notebooks/GTEX-1HSMQ-5014.h5ad --sc_path notebooks/GTEX-1HSMQ-5014.h5ad -a \"Cell types level 2\" --contrastive --num_markers 300 --augmentation_perc 0\n",
    "# python CoDi.py --st_path notebooks/GTEX-15CHR-5014.h5ad --sc_path notebooks/GTEX-1HSMQ-5014.h5ad -a \"Cell types level 2\" --contrastive --num_markers 300 --augmentation_perc 0\n",
    "# python CoDi.py --st_path notebooks/GTEX-1I1GU-5006.h5ad --sc_path notebooks/GTEX-1HSMQ-5014.h5ad -a \"Cell types level 2\" --contrastive --num_markers 300 --augmentation_perc 0\n",
    "# python CoDi.py --st_path notebooks/GTEX-12BJ1-5007.h5ad --sc_path notebooks/GTEX-1HSMQ-5014.h5ad -a \"Cell types level 2\" --contrastive --num_markers 300 --augmentation_perc 0\n",
    "\n",
    "# # skin\n",
    "# python CoDi.py --st_path notebooks/GTEX-1HSMQ-5007.h5ad --sc_path notebooks/GTEX-1HSMQ-5007.h5ad -a \"Cell types level 2\" --contrastive --num_markers 300 --augmentation_perc 0\n",
    "# python CoDi.py --st_path notebooks/GTEX-1CAMR-5015.h5ad --sc_path notebooks/GTEX-1HSMQ-5007.h5ad -a \"Cell types level 2\" --contrastive --num_markers 300 --augmentation_perc 0\n",
    "# python CoDi.py --st_path notebooks/GTEX-15EOM-5003.h5ad --sc_path notebooks/GTEX-1HSMQ-5007.h5ad -a \"Cell types level 2\" --contrastive --num_markers 300 --augmentation_perc 0"
   ]
  },
  {
   "cell_type": "code",
   "execution_count": null,
   "id": "fe385073-adfc-4a15-ba0a-b65d40248c7a",
   "metadata": {},
   "outputs": [],
   "source": [
    "for sample in adata.obs['Sample ID short'].unique():\n",
    "    sample_df = adata.obs[adata.obs['Sample ID short'] == sample]\n",
    "    display(sample, sample_df['tissue'].unique())\n",
    "    display(Counter(sample_df['Cell types level 2']))\n",
    "    print('-------------------')"
   ]
  },
  {
   "cell_type": "code",
   "execution_count": 28,
   "id": "2c23611b-e42a-430f-8bca-064401681cfd",
   "metadata": {},
   "outputs": [
    {
     "data": {
      "text/plain": [
       "['GTEX-1HSMQ-5011', 'GTEX-15RIE-5021', 'GTEX-145ME-5018', 'GTEX-1R9PN-5002', 'GTEX-1CAMS-5015', ..., 'GTEX-1I1GU-5006', 'GTEX-12BJ1-5007', 'GTEX-1HSMQ-5007', 'GTEX-1CAMR-5015', 'GTEX-15EOM-5003']\n",
       "Length: 25\n",
       "Categories (25, object): ['GTEX-1HSMQ-5011', 'GTEX-15RIE-5021', 'GTEX-145ME-5018', 'GTEX-1R9PN-5002', ..., 'GTEX-12BJ1-5007', 'GTEX-1HSMQ-5007', 'GTEX-1CAMR-5015', 'GTEX-15EOM-5003']"
      ]
     },
     "execution_count": 28,
     "metadata": {},
     "output_type": "execute_result"
    }
   ],
   "source": [
    "adata.obs['Sample ID short'].unique()"
   ]
  },
  {
   "cell_type": "code",
   "execution_count": null,
   "id": "8bd4e430-fbf6-4613-91cc-387e935c9454",
   "metadata": {},
   "outputs": [],
   "source": [
    "files = sorted(glob('../results/*CoDi_KLD.h5ad'))\n",
    "acc_dict = {'CoDi': [], 'CoDi_dist': [], 'CoDi_contrastive': []}\n",
    "for f in files:\n",
    "    ad = sc.read_h5ad(f)\n",
    "    for k, v in acc_dict.items():\n",
    "        acc_dict[k].append(accuracy_score(ad.obs.loc[:, 'Cell types level 2'], ad.obs.loc[:, k]))\n",
    "display(acc_dict)"
   ]
  },
  {
   "cell_type": "code",
   "execution_count": 60,
   "id": "29ea6f3d-139a-4b55-8260-0a151d06e68d",
   "metadata": {},
   "outputs": [],
   "source": [
    "performance_dict = acc_dict.copy()\n",
    "performance_dict['sample'] = [f.replace('../results/', '').replace('_CoDi_KLD.h5ad', '').strip() for f in files]\n",
    "performance_dict['tissue'] = [adata.obs[adata.obs['Sample ID short'] == s]['tissue'].unique()[0] for s in performance_dict['sample']]"
   ]
  },
  {
   "cell_type": "code",
   "execution_count": 63,
   "id": "151d1aad-133e-40cf-bcb9-858640d00331",
   "metadata": {},
   "outputs": [],
   "source": [
    "ref_samples = ['GTEX-1HSMQ-5011', 'GTEX-1R9PN-5002', 'GTEX-16BQI-5013', 'GTEX-1ICG6-5014', 'GTEX-1ICG6-5003', 'GTEX-1HSMQ-5005', 'GTEX-1HSMQ-5014', 'GTEX-1HSMQ-5007']"
   ]
  },
  {
   "cell_type": "code",
   "execution_count": 117,
   "id": "c526656d-3907-4409-beda-01a40ab72719",
   "metadata": {},
   "outputs": [],
   "source": [
    "df = pd.DataFrame(performance_dict).sort_values(by='tissue')\n",
    "df = df[df['tissue'] != 'skin']\n",
    "df.set_index('sample', inplace=True)\n",
    "df.columns = ['CoDi', 'CoDi distance', 'CoDi contrastive', 'Tissue']"
   ]
  },
  {
   "cell_type": "code",
   "execution_count": 118,
   "id": "fb71d672-bfcb-45ad-b4af-8b97c2f69865",
   "metadata": {},
   "outputs": [
    {
     "data": {
      "text/html": [
       "<div>\n",
       "<style scoped>\n",
       "    .dataframe tbody tr th:only-of-type {\n",
       "        vertical-align: middle;\n",
       "    }\n",
       "\n",
       "    .dataframe tbody tr th {\n",
       "        vertical-align: top;\n",
       "    }\n",
       "\n",
       "    .dataframe thead th {\n",
       "        text-align: right;\n",
       "    }\n",
       "</style>\n",
       "<table border=\"1\" class=\"dataframe\">\n",
       "  <thead>\n",
       "    <tr style=\"text-align: right;\">\n",
       "      <th></th>\n",
       "      <th>CoDi</th>\n",
       "      <th>CoDi distance</th>\n",
       "      <th>CoDi contrastive</th>\n",
       "      <th>Tissue</th>\n",
       "    </tr>\n",
       "  </thead>\n",
       "  <tbody>\n",
       "    <tr>\n",
       "      <th>*GTEX-1R9PN-5002</th>\n",
       "      <td>99.37</td>\n",
       "      <td>98.96</td>\n",
       "      <td>99.63</td>\n",
       "      <td>breast</td>\n",
       "    </tr>\n",
       "    <tr>\n",
       "      <th>GTEX-1CAMS-5015</th>\n",
       "      <td>97.89</td>\n",
       "      <td>93.16</td>\n",
       "      <td>97.93</td>\n",
       "      <td>breast</td>\n",
       "    </tr>\n",
       "    <tr>\n",
       "      <th>GTEX-1MCC2-5013</th>\n",
       "      <td>98.42</td>\n",
       "      <td>93.61</td>\n",
       "      <td>98.56</td>\n",
       "      <td>breast</td>\n",
       "    </tr>\n",
       "    <tr>\n",
       "      <th>GTEX-15SB6-5008</th>\n",
       "      <td>97.75</td>\n",
       "      <td>92.23</td>\n",
       "      <td>98.42</td>\n",
       "      <td>esophagusmucosa</td>\n",
       "    </tr>\n",
       "    <tr>\n",
       "      <th>*GTEX-16BQI-5013</th>\n",
       "      <td>98.74</td>\n",
       "      <td>97.64</td>\n",
       "      <td>99.13</td>\n",
       "      <td>esophagusmucosa</td>\n",
       "    </tr>\n",
       "    <tr>\n",
       "      <th>GTEX-145ME-5005</th>\n",
       "      <td>96.17</td>\n",
       "      <td>93.07</td>\n",
       "      <td>96.46</td>\n",
       "      <td>esophagusmucosa</td>\n",
       "    </tr>\n",
       "    <tr>\n",
       "      <th>*GTEX-1ICG6-5014</th>\n",
       "      <td>98.66</td>\n",
       "      <td>98.15</td>\n",
       "      <td>99.34</td>\n",
       "      <td>esophagusmuscularis</td>\n",
       "    </tr>\n",
       "    <tr>\n",
       "      <th>GTEX-144GM-5010</th>\n",
       "      <td>97.15</td>\n",
       "      <td>93.07</td>\n",
       "      <td>97.60</td>\n",
       "      <td>esophagusmuscularis</td>\n",
       "    </tr>\n",
       "    <tr>\n",
       "      <th>GTEX-1HSMQ-5021</th>\n",
       "      <td>95.73</td>\n",
       "      <td>92.72</td>\n",
       "      <td>96.35</td>\n",
       "      <td>esophagusmuscularis</td>\n",
       "    </tr>\n",
       "    <tr>\n",
       "      <th>GTEX-13N11-5002</th>\n",
       "      <td>96.74</td>\n",
       "      <td>91.58</td>\n",
       "      <td>97.68</td>\n",
       "      <td>heart</td>\n",
       "    </tr>\n",
       "    <tr>\n",
       "      <th>*GTEX-1ICG6-5003</th>\n",
       "      <td>98.36</td>\n",
       "      <td>95.95</td>\n",
       "      <td>99.50</td>\n",
       "      <td>heart</td>\n",
       "    </tr>\n",
       "    <tr>\n",
       "      <th>GTEX-15RIE-5015</th>\n",
       "      <td>96.70</td>\n",
       "      <td>90.53</td>\n",
       "      <td>97.32</td>\n",
       "      <td>heart</td>\n",
       "    </tr>\n",
       "    <tr>\n",
       "      <th>GTEX-15CHR-5005</th>\n",
       "      <td>99.50</td>\n",
       "      <td>98.14</td>\n",
       "      <td>99.55</td>\n",
       "      <td>lung</td>\n",
       "    </tr>\n",
       "    <tr>\n",
       "      <th>GTEX-13N11-5030</th>\n",
       "      <td>99.36</td>\n",
       "      <td>97.87</td>\n",
       "      <td>99.57</td>\n",
       "      <td>lung</td>\n",
       "    </tr>\n",
       "    <tr>\n",
       "      <th>*GTEX-1HSMQ-5005</th>\n",
       "      <td>99.83</td>\n",
       "      <td>99.69</td>\n",
       "      <td>99.91</td>\n",
       "      <td>lung</td>\n",
       "    </tr>\n",
       "    <tr>\n",
       "      <th>GTEX-1I1GU-5006</th>\n",
       "      <td>98.67</td>\n",
       "      <td>95.61</td>\n",
       "      <td>98.67</td>\n",
       "      <td>prostate</td>\n",
       "    </tr>\n",
       "    <tr>\n",
       "      <th>*GTEX-1HSMQ-5014</th>\n",
       "      <td>99.34</td>\n",
       "      <td>98.89</td>\n",
       "      <td>99.58</td>\n",
       "      <td>prostate</td>\n",
       "    </tr>\n",
       "    <tr>\n",
       "      <th>GTEX-12BJ1-5007</th>\n",
       "      <td>98.35</td>\n",
       "      <td>91.95</td>\n",
       "      <td>98.77</td>\n",
       "      <td>prostate</td>\n",
       "    </tr>\n",
       "    <tr>\n",
       "      <th>GTEX-15CHR-5014</th>\n",
       "      <td>97.60</td>\n",
       "      <td>96.14</td>\n",
       "      <td>97.74</td>\n",
       "      <td>prostate</td>\n",
       "    </tr>\n",
       "    <tr>\n",
       "      <th>GTEX-15RIE-5021</th>\n",
       "      <td>97.44</td>\n",
       "      <td>92.77</td>\n",
       "      <td>99.47</td>\n",
       "      <td>skeletalmuscle</td>\n",
       "    </tr>\n",
       "    <tr>\n",
       "      <th>*GTEX-1HSMQ-5011</th>\n",
       "      <td>97.27</td>\n",
       "      <td>96.31</td>\n",
       "      <td>99.79</td>\n",
       "      <td>skeletalmuscle</td>\n",
       "    </tr>\n",
       "    <tr>\n",
       "      <th>GTEX-145ME-5018</th>\n",
       "      <td>98.53</td>\n",
       "      <td>94.10</td>\n",
       "      <td>99.38</td>\n",
       "      <td>skeletalmuscle</td>\n",
       "    </tr>\n",
       "    <tr>\n",
       "      <th>Mean</th>\n",
       "      <td>97.73</td>\n",
       "      <td>93.77</td>\n",
       "      <td>98.23</td>\n",
       "      <td>all without *</td>\n",
       "    </tr>\n",
       "    <tr>\n",
       "      <th>Std</th>\n",
       "      <td>1.11</td>\n",
       "      <td>2.23</td>\n",
       "      <td>1.05</td>\n",
       "      <td>all without *</td>\n",
       "    </tr>\n",
       "    <tr>\n",
       "      <th>Min</th>\n",
       "      <td>95.73</td>\n",
       "      <td>90.53</td>\n",
       "      <td>96.35</td>\n",
       "      <td>all without *</td>\n",
       "    </tr>\n",
       "    <tr>\n",
       "      <th>Max</th>\n",
       "      <td>99.50</td>\n",
       "      <td>98.14</td>\n",
       "      <td>99.57</td>\n",
       "      <td>all without *</td>\n",
       "    </tr>\n",
       "  </tbody>\n",
       "</table>\n",
       "</div>"
      ],
      "text/plain": [
       "                   CoDi  CoDi distance  CoDi contrastive               Tissue\n",
       "*GTEX-1R9PN-5002  99.37          98.96             99.63               breast\n",
       "GTEX-1CAMS-5015   97.89          93.16             97.93               breast\n",
       "GTEX-1MCC2-5013   98.42          93.61             98.56               breast\n",
       "GTEX-15SB6-5008   97.75          92.23             98.42      esophagusmucosa\n",
       "*GTEX-16BQI-5013  98.74          97.64             99.13      esophagusmucosa\n",
       "GTEX-145ME-5005   96.17          93.07             96.46      esophagusmucosa\n",
       "*GTEX-1ICG6-5014  98.66          98.15             99.34  esophagusmuscularis\n",
       "GTEX-144GM-5010   97.15          93.07             97.60  esophagusmuscularis\n",
       "GTEX-1HSMQ-5021   95.73          92.72             96.35  esophagusmuscularis\n",
       "GTEX-13N11-5002   96.74          91.58             97.68                heart\n",
       "*GTEX-1ICG6-5003  98.36          95.95             99.50                heart\n",
       "GTEX-15RIE-5015   96.70          90.53             97.32                heart\n",
       "GTEX-15CHR-5005   99.50          98.14             99.55                 lung\n",
       "GTEX-13N11-5030   99.36          97.87             99.57                 lung\n",
       "*GTEX-1HSMQ-5005  99.83          99.69             99.91                 lung\n",
       "GTEX-1I1GU-5006   98.67          95.61             98.67             prostate\n",
       "*GTEX-1HSMQ-5014  99.34          98.89             99.58             prostate\n",
       "GTEX-12BJ1-5007   98.35          91.95             98.77             prostate\n",
       "GTEX-15CHR-5014   97.60          96.14             97.74             prostate\n",
       "GTEX-15RIE-5021   97.44          92.77             99.47       skeletalmuscle\n",
       "*GTEX-1HSMQ-5011  97.27          96.31             99.79       skeletalmuscle\n",
       "GTEX-145ME-5018   98.53          94.10             99.38       skeletalmuscle\n",
       "Mean              97.73          93.77             98.23        all without *\n",
       "Std                1.11           2.23              1.05        all without *\n",
       "Min               95.73          90.53             96.35        all without *\n",
       "Max               99.50          98.14             99.57        all without *"
      ]
     },
     "execution_count": 118,
     "metadata": {},
     "output_type": "execute_result"
    }
   ],
   "source": [
    "df_no_ref = df[~df.index.isin(ref_samples)]\n",
    "df.loc['Mean', :] = list(df_no_ref.mean().values) + ['all without *']\n",
    "df.loc['Std', :] = list(df_no_ref.std().values) + ['all without *']\n",
    "df.loc['Min', :] = list(df_no_ref.min().values)[:3] + ['all without *']\n",
    "df.loc['Max', :] = list(df_no_ref.max().values)[:3] + ['all without *']\n",
    "df.index = ['*' + x if x in ref_samples else x for x in df.index]\n",
    "df = df.applymap(lambda x: x if isinstance(x, str) else np.round(100*x, 2))\n",
    "df\n"
   ]
  },
  {
   "cell_type": "code",
   "execution_count": 119,
   "id": "be39aee3-aae8-4455-8239-7161873e4dad",
   "metadata": {},
   "outputs": [],
   "source": [
    "df.to_csv('CoDi_atlas.csv')"
   ]
  },
  {
   "cell_type": "code",
   "execution_count": null,
   "id": "5df757ef-0c2e-4ca2-876f-908c476714db",
   "metadata": {},
   "outputs": [],
   "source": [
    "# adata2.obsm['spatial'] = adata2.obsm['X_spatial']\n",
    "fig, axs = plt.subplots(1, 2, figsize=(18, 10))\n",
    "# my_colors = sns.color_palette(adata2.uns['author_cell_type_colors'])\n",
    "plot_spatial(adata2, annotation='Cell types level 2', spot_size=18, palette=my_colors, ax=axs[0])\n",
    "plot_spatial(adata2, annotation='CoDi', spot_size=18, palette=my_colors, ax=axs[1])"
   ]
  },
  {
   "cell_type": "code",
   "execution_count": 32,
   "id": "403a902d-ab51-49d8-8e1b-c3fcfab48e91",
   "metadata": {},
   "outputs": [
    {
     "data": {
      "text/plain": [
       "Text(0.5, 1.0, 'Contingency Matrix')"
      ]
     },
     "execution_count": 32,
     "metadata": {},
     "output_type": "execute_result"
    },
    {
     "data": {
      "image/png": "[encoded data removed]",
      "text/plain": [
       "<Figure size 800x800 with 1 Axes>"
      ]
     },
     "metadata": {},
     "output_type": "display_data"
    }
   ],
   "source": [
    "# out_name = st_path.split('/')[-1].replace('.h5ad', '_codi_contingency.png')\n",
    "cm = contingency_matrix(adata2.obs.loc[:, 'Cell types level 2'], adata2.obs.loc[:, 'CoDi'])\n",
    "# Visualize the confusion matrix using Seaborn\n",
    "class_labels_y = np.unique(adata2.obs.loc[:, 'Cell types level 2'])\n",
    "class_labels_x = np.unique(adata2.obs.loc[:, 'CoDi'])\n",
    "\n",
    "plt.figure(figsize=(8,8))\n",
    "sns.heatmap(cm, annot=True, fmt=\"d\", cmap=\"Blues\", cbar=False, xticklabels=class_labels_x, yticklabels=class_labels_y)\n",
    "plt.xlabel(\"CoDi Predicted Labels\")\n",
    "plt.ylabel(\"Labels from original paper\")\n",
    "plt.title(\"Contingency Matrix\")\n",
    "# plt.savefig(out_name, dpi=150, bbox_inches='tight')"
   ]
  },
  {
   "cell_type": "code",
   "execution_count": 33,
   "id": "6a160a95-4143-4d22-97a3-ae2b9d6a85de",
   "metadata": {},
   "outputs": [
    {
     "data": {
      "text/plain": [
       "0.9727927447319286"
      ]
     },
     "execution_count": 33,
     "metadata": {},
     "output_type": "execute_result"
    }
   ],
   "source": [
    "accuracy_score(adata2.obs.loc[:, 'Cell types level 2'], adata2.obs.loc[:, 'CoDi'])"
   ]
  },
  {
   "cell_type": "code",
   "execution_count": 18,
   "id": "4a3d6137-adab-436a-839a-affed8a1871b",
   "metadata": {},
   "outputs": [
    {
     "data": {
      "text/plain": [
       "AnnData object with n_obs × n_vars = 35896 × 21073\n",
       "    obs: 'assay_ontology_term_id', 'self_reported_ethnicity_ontology_term_id', 'is_primary_data', 'organism_ontology_term_id', 'sample', 'tissue_ontology_term_id', 'disease_state', 'sex_ontology_term_id', 'genotype', 'development_stage_ontology_term_id', 'author_cell_type', 'cell_type_ontology_term_id', 'disease_ontology_term_id', 'donor_id', 'suspension_type', 'cell_type', 'assay', 'disease', 'organism', 'sex', 'tissue', 'self_reported_ethnicity', 'development_stage', 'CoDi_dist', 'confidence_dist', 'CoDi_contrastive', 'confidence_contrastive', 'CoDi', 'confidence'\n",
       "    var: 'feature_is_filtered', 'feature_name', 'feature_reference', 'feature_biotype'\n",
       "    uns: 'schema_version', 'title'\n",
       "    obsm: 'X_spatial', 'probabilities', 'probabilities_contrastive', 'probabilities_dist', 'spatial'"
      ]
     },
     "execution_count": 18,
     "metadata": {},
     "output_type": "execute_result"
    }
   ],
   "source": [
    "adata2"
   ]
  },
  {
   "cell_type": "code",
   "execution_count": 9,
   "id": "e9f1d7e9-dae8-47c5-b2e7-26ac6eb9583a",
   "metadata": {},
   "outputs": [],
   "source": [
    "from matplotlib.axes import Axes\n",
    "import matplotlib.pyplot as plt\n",
    "import seaborn as sns\n",
    "# Visualisation\n",
    "def plot_spatial(\n",
    "    adata, annotation, ax: Axes, spot_size: float, palette=None, title: str = \"\"\n",
    "):\n",
    "    \"\"\"\n",
    "    Scatter plot in spatial coordinates.\n",
    "\n",
    "    Parameters:\n",
    "        - adata (AnnData): Annotated data object which represents the sample\n",
    "        - annotation (str): adata.obs column used for grouping\n",
    "        - ax (Axes): Axes object used for plotting\n",
    "        - spot_size (int): Size of the dot that represents a cell. We are passing it as a diameter of the spot, while\n",
    "                the plotting library uses radius therefore it is multiplied by 0.5\n",
    "        - palette (dict): Dictionary that represents a mapping between annotation categories and colors\n",
    "        - title (str): Title of the figure\n",
    "\n",
    "    \"\"\"\n",
    "    s = spot_size * 0.5\n",
    "    data = adata\n",
    "    ax = sns.scatterplot(\n",
    "        data=data.obs,\n",
    "        hue=annotation,\n",
    "        x=data.obsm[\"spatial\"][:, 0],\n",
    "        y=data.obsm[\"spatial\"][:, 1],\n",
    "        ax=ax,\n",
    "        s=s,\n",
    "        linewidth=0,\n",
    "        palette=palette,\n",
    "        marker=\".\",\n",
    "    )\n",
    "    ax.invert_yaxis()\n",
    "    ax.set(yticklabels=[], xticklabels=[], title=title)\n",
    "    ax.tick_params(bottom=False, left=False)\n",
    "    ax.set_aspect(\"equal\")\n",
    "    sns.despine(bottom=True, left=True, ax=ax)"
   ]
  },
  {
   "cell_type": "code",
   "execution_count": null,
   "id": "9bc0497c-5f49-470f-8ea6-78b96c8433ba",
   "metadata": {},
   "outputs": [],
   "source": []
  }
 ],
 "metadata": {
  "kernelspec": {
   "display_name": "svc-kernel",
   "language": "python",
   "name": "svc"
  },
  "language_info": {
   "codemirror_mode": {
    "name": "ipython",
    "version": 3
   },
   "file_extension": ".py",
   "mimetype": "text/x-python",
   "name": "python",
   "nbconvert_exporter": "python",
   "pygments_lexer": "ipython3",
   "version": "3.9.17"
  }
 },
 "nbformat": 4,
 "nbformat_minor": 5
}
