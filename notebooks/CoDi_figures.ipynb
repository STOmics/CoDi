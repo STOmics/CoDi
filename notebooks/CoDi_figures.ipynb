{
 "cells": [
  {
   "cell_type": "code",
   "execution_count": 5,
   "id": "16313d2f",
   "metadata": {},
   "outputs": [],
   "source": [
    "import pandas as pd\n",
    "import matplotlib.pyplot as plt\n",
    "import seaborn as sns\n",
    "import numpy as np\n",
    "from glob import glob\n",
    "import os"
   ]
  },
  {
   "cell_type": "code",
   "execution_count": 6,
   "id": "ef73502b-b3dd-49e6-86cd-ae015c32fb65",
   "metadata": {},
   "outputs": [
    {
     "data": {
      "text/plain": [
       "[('adult_mouse_brain_B5', 'CoDi'),\n",
       " ('adult_mouse_brain_B5', 'cell2location'),\n",
       " ('adult_mouse_brain_B5', 'cytospace'),\n",
       " ('adult_mouse_brain_B5', 'seurat'),\n",
       " ('adult_mouse_brain_B5', 'tangram'),\n",
       " ('mouse_kidney', 'CoDi'),\n",
       " ('mouse_kidney', 'cell2location'),\n",
       " ('mouse_kidney', 'cytospace'),\n",
       " ('mouse_kidney', 'seurat'),\n",
       " ('mouse_kidney', 'tangram'),\n",
       " ('visium_mouse_brain', 'CoDi'),\n",
       " ('visium_mouse_brain', 'cell2location'),\n",
       " ('visium_mouse_brain', 'cytospace'),\n",
       " ('visium_mouse_brain', 'seurat'),\n",
       " ('visium_mouse_brain', 'tangram'),\n",
       " ('whole_brain_mouse_embryo', 'CoDi'),\n",
       " ('whole_brain_mouse_embryo', 'cell2location'),\n",
       " ('whole_brain_mouse_embryo', 'cytospace'),\n",
       " ('whole_brain_mouse_embryo', 'seurat'),\n",
       " ('whole_brain_mouse_embryo', 'tangram')]"
      ]
     },
     "execution_count": 6,
     "metadata": {},
     "output_type": "execute_result"
    }
   ],
   "source": [
    "files = glob('/goofys/projects/SSI/testing/reports_final/' + '/*.csv')\n",
    "fproc = list(map(os.path.basename, files))\n",
    "fproc = [('_'.join(f.split('_')[: -1]), f[:-4].split('_')[-1]) for f in fproc]\n",
    "fproc"
   ]
  },
  {
   "cell_type": "code",
   "execution_count": 7,
   "id": "a3cf49f9-63d6-4d24-aa86-425c6d29551a",
   "metadata": {},
   "outputs": [
    {
     "data": {
      "text/plain": [
       "{'top 100 marker genes': [['tangram', [64.0, 50.25, 54.15, 71.73]],\n",
       "  ['cytospace', [67.7, 62.06, 54.74, 70.34]],\n",
       "  ['seurat', [66.66, 67.31, 61.68, 74.19]],\n",
       "  ['cell2location', [73.71, 64.94, 9.74, 65.43]],\n",
       "  ['CoDi', [78.91, 74.14, 74.89, 72.86]]],\n",
       " 'unique marker genes': [['tangram', [44.5, 27.54, 35.2, 30.85]],\n",
       "  ['cytospace', [47.48, 41.81, 35.21, 26.75]],\n",
       "  ['seurat', [40.24, 49.39, 42.82, 49.84]],\n",
       "  ['cell2location', [45.29, 33.93, 8.83, 41.67]],\n",
       "  ['CoDi', [60.26, 54.3, 58.5, 48.26]]]}"
      ]
     },
     "execution_count": 7,
     "metadata": {},
     "output_type": "execute_result"
    }
   ],
   "source": [
    "scores_dict = {'top 100 marker genes': [['tangram', [0, 0, 0, 0]],\n",
    "          ['cytospace', [0, 0, 0, 0]],\n",
    "          ['seurat', [0, 0, 0, 0]],\n",
    "          ['cell2location', [0, 0, 0, 0]],\n",
    "          ['CoDi', [0, 0, 0, 0]]],\n",
    "               'unique marker genes': [['tangram', [0, 0, 0, 0]],\n",
    "          ['cytospace', [0, 0, 0, 0]],\n",
    "          ['seurat', [0, 0, 0, 0]],\n",
    "          ['cell2location', [0, 0, 0, 0]],\n",
    "          ['CoDi', [0, 0, 0, 0]]]}\n",
    "samples_dict = {'adult_mouse_brain_B5':0, 'whole_brain_mouse_embryo':1, 'visium_mouse_brain':2, 'mouse_kidney':3}\n",
    "tools_dict = {'tangram': 0, 'cytospace': 1, 'seurat': 2, 'cell2location': 3, 'CoDi':4}\n",
    "\n",
    "for path, tup in zip(files, fproc):\n",
    "    df = pd.read_csv(path).set_index('retention type')\n",
    "    for metric in ['top 100 marker genes', 'unique marker genes']:\n",
    "        scores_dict[metric][tools_dict[tup[1]]][1][samples_dict[tup[0]]] = df.loc[metric, 'retention percentage']\n",
    "scores_dict"
   ]
  },
  {
   "cell_type": "code",
   "execution_count": 15,
   "id": "d94965fa",
   "metadata": {},
   "outputs": [
    {
     "name": "stdout",
     "output_type": "stream",
     "text": [
      "[0, 64.0] 64.0\n",
      "[1, 67.7] 67.7\n",
      "[2, 66.66] 66.66\n",
      "[3, 73.71] 73.71\n",
      "[4, 78.91] 78.91\n",
      "[5, 50.25] 50.25\n",
      "[6, 62.06] 62.06\n",
      "[7, 67.31] 67.31\n",
      "[8, 64.94] 64.94\n",
      "[9, 74.14] 74.14\n",
      "[10, 54.15] 54.15\n",
      "[11, 54.74] 54.74\n",
      "[12, 61.68] 61.68\n",
      "[13, 9.74] 9.74\n",
      "[14, 74.89] 74.89\n",
      "[15, 71.73] 71.73\n",
      "[16, 70.34] 70.34\n",
      "[17, 74.19] 74.19\n",
      "[18, 65.43] 65.43\n",
      "[19, 72.86] 72.86\n",
      "[0, 44.5] 44.5\n",
      "[1, 47.48] 47.48\n",
      "[2, 40.24] 40.24\n",
      "[3, 45.29] 45.29\n",
      "[4, 60.26] 60.26\n",
      "[5, 27.54] 27.54\n",
      "[6, 41.81] 41.81\n",
      "[7, 49.39] 49.39\n",
      "[8, 33.93] 33.93\n",
      "[9, 54.3] 54.3\n",
      "[10, 35.2] 35.2\n",
      "[11, 35.21] 35.21\n",
      "[12, 42.82] 42.82\n",
      "[13, 8.83] 8.83\n",
      "[14, 58.5] 58.5\n",
      "[15, 30.85] 30.85\n",
      "[16, 26.75] 26.75\n",
      "[17, 49.84] 49.84\n",
      "[18, 41.67] 41.67\n",
      "[19, 48.26] 48.26\n"
     ]
    }
   ],
   "source": [
    "from pyecharts import options as opts\n",
    "from pyecharts.charts import Bar\n",
    "from pyecharts.faker import Faker\n",
    "# https://gallery.pyecharts.org/#/Bar/bar_markpoint_type\n",
    "# ds = ['Adult mouse brain B5 (stereo-seq)', 'Whole brain mouse embryo (stereo-seq)', 'Mouse brain (10x Visium)', 'Mouse kidney (Slide-seq V2)']\n",
    "ds = ['Adult mouse brain B5', 'Embryo mouse brain', 'Mouse brain (10x)', 'Mouse kidney']\n",
    "\n",
    "metric_dict = {'top 100 marker genes': 'top 100', 'unique marker genes': 'non-ubiquitous'}\n",
    "for metric, scores in scores_dict.items():\n",
    "    bar = Bar().add_xaxis(ds)\n",
    "    bar.set_global_opts(title_opts=opts.TitleOpts(title=f'Retention % of \\n{metric_dict[metric]} scRNA genes'))\n",
    "    for yAxis in scores:\n",
    "        bar.add_yaxis(*yAxis)\n",
    "        \n",
    "    mark_point_datas = []\n",
    "    for i in range(len(ds)):\n",
    "        for j in range(len(scores)):\n",
    "            print([i * len(scores) + j, scores[j][1][i]], scores[j][1][i])\n",
    "            mark_point_datas.append(opts.MarkPointItem(name=f\"\", coord=[(i, j), scores[j][1][i]], value=scores[j][1][i], symbol_size=55))  # symbol='circle'\n",
    "    # mark_point_datas = np.reshape(mark_point_datas, (len(ds), len(scores))).tolist()\n",
    "    # bar.set_series_opts(label_opts=opts.LabelOpts(is_show=False), markpoint_opts=opts.MarkPointOpts(data=mark_point_datas))\n",
    "    bar.render(metric + \".html\")\n"
   ]
  },
  {
   "cell_type": "code",
   "execution_count": 9,
   "id": "ffc976a3-1e96-4e10-9a1c-4cda1c7572e5",
   "metadata": {},
   "outputs": [
    {
     "data": {
      "text/plain": [
       "[<pyecharts.options.series_options.MarkPointItem at 0x7f75ab8b4440>,\n",
       " <pyecharts.options.series_options.MarkPointItem at 0x7f75833a1c00>,\n",
       " <pyecharts.options.series_options.MarkPointItem at 0x7f75833a19c0>,\n",
       " <pyecharts.options.series_options.MarkPointItem at 0x7f75833a1900>,\n",
       " <pyecharts.options.series_options.MarkPointItem at 0x7f75833a1a40>,\n",
       " <pyecharts.options.series_options.MarkPointItem at 0x7f75833a1d40>,\n",
       " <pyecharts.options.series_options.MarkPointItem at 0x7f75833a2740>,\n",
       " <pyecharts.options.series_options.MarkPointItem at 0x7f75833a2180>,\n",
       " <pyecharts.options.series_options.MarkPointItem at 0x7f75833a2080>,\n",
       " <pyecharts.options.series_options.MarkPointItem at 0x7f75833a18c0>,\n",
       " <pyecharts.options.series_options.MarkPointItem at 0x7f75833a2680>,\n",
       " <pyecharts.options.series_options.MarkPointItem at 0x7f75833a2800>,\n",
       " <pyecharts.options.series_options.MarkPointItem at 0x7f75833a2d80>,\n",
       " <pyecharts.options.series_options.MarkPointItem at 0x7f75833a2dc0>,\n",
       " <pyecharts.options.series_options.MarkPointItem at 0x7f758332b300>,\n",
       " <pyecharts.options.series_options.MarkPointItem at 0x7f75ab89e5c0>,\n",
       " <pyecharts.options.series_options.MarkPointItem at 0x7f75ab88fd80>,\n",
       " <pyecharts.options.series_options.MarkPointItem at 0x7f75ac9b7480>,\n",
       " <pyecharts.options.series_options.MarkPointItem at 0x7f75ab8a66c0>,\n",
       " <pyecharts.options.series_options.MarkPointItem at 0x7f758339b0c0>]"
      ]
     },
     "execution_count": 9,
     "metadata": {},
     "output_type": "execute_result"
    }
   ],
   "source": [
    "mark_point_datas"
   ]
  },
  {
   "cell_type": "code",
   "execution_count": 57,
   "id": "a595092b-420a-4e0a-9bc6-cbc94662f352",
   "metadata": {},
   "outputs": [
    {
     "data": {
      "text/plain": [
       "[['tangram', [64.0, 50.25, 54.15, 71.73]],\n",
       " ['cytospace', [67.7, 62.06, 54.74, 70.34]],\n",
       " ['seurat', [66.66, 67.31, 61.68, 74.19]],\n",
       " ['cell2location', [73.71, 64.94, 9.74, 65.43]],\n",
       " ['CoDi', [78.91, 74.14, 74.89, 72.86]]]"
      ]
     },
     "execution_count": 57,
     "metadata": {},
     "output_type": "execute_result"
    }
   ],
   "source": [
    "scores\n"
   ]
  },
  {
   "cell_type": "code",
   "execution_count": 7,
   "id": "17845e0c",
   "metadata": {},
   "outputs": [],
   "source": [
    "from pyecharts import options as opts\n",
    "from pyecharts.charts import Funnel\n",
    "from pyecharts.faker import Faker\n",
    "\n",
    "\n",
    "c = Funnel().add(\n",
    "    \"text\",\n",
    "    [list(z) for z in zip(Faker.choose(), Faker.values())],\n",
    "    sort_=\"ascending\",\n",
    "    label_opts=opts.LabelOpts(position=0),\n",
    "\n",
    ").add(\n",
    "    \"text2\",\n",
    "    [list(z) for z in zip(Faker.choose(), Faker.values())],\n",
    "    sort_=\"ascending\",\n",
    "    label_opts=opts.LabelOpts(position=1),\n",
    "\n",
    ").set_global_opts(title_opts=opts.TitleOpts(title=\"Funnel-Sort（ascending）\")).render(\"funnel_sort_ascending.html\")\n",
    "    \n",
    "# Configure Appearance\n",
    "# c.set_global_opts(\n",
    "#     title_opts=opts.TitleOpts(title=\"Multiple Funnel Plots\"),\n",
    "#     graphic_opts=[\n",
    "#         opts.GraphicGroup(\n",
    "#             graphic_item=opts.GraphicItem(\n",
    "#                 rotation=0, left=\"75%\", top=\"15%\", z=100, bounding=\"raw\"\n",
    "#             ),\n",
    "#             children=[\n",
    "#                 opts.GraphicRect(\n",
    "#                     graphic_item=opts.GraphicItem(left=\"center\", top=\"center\", z=100),\n",
    "#                     graphic_shape_opts=opts.GraphicShapeOpts(\n",
    "#                         width=400, height=300\n",
    "#                     ),\n",
    "#                 )\n",
    "#             ],\n",
    "#         )\n",
    "#     ],\n",
    "# )\n",
    "# c.render(\"funnel_sort_ascending.html\")"
   ]
  },
  {
   "cell_type": "code",
   "execution_count": null,
   "id": "e686534e-8a80-485c-badb-29ccba9fa832",
   "metadata": {},
   "outputs": [],
   "source": []
  },
  {
   "cell_type": "code",
   "execution_count": null,
   "id": "25d121cf-98a4-49aa-9b4f-176ce24ad548",
   "metadata": {},
   "outputs": [],
   "source": []
  },
  {
   "cell_type": "code",
   "execution_count": 39,
   "id": "1e5448d0",
   "metadata": {},
   "outputs": [
    {
     "data": {
      "image/png": "[encoded data removed]",
      "text/plain": [
       "<Figure size 864x648 with 1 Axes>"
      ]
     },
     "metadata": {
      "needs_background": "light"
     },
     "output_type": "display_data"
    }
   ],
   "source": [
    "tools = ['Tangram', 'Spatial-ID', 'CytoSpace', 'Seurat', 'RCTD', 'CoDi']\n",
    "top_100_L5 = [64.31, 56.23, 67.71, 0,0,79.52]\n",
    "top_100_visium = [ 53.96, 0, 54.98, 59.87, 63.44, 59.42]\n",
    "top_100_kidney = [0, 0, 0, 0, 0, 81.04]\n",
    "\n",
    "data = pd.DataFrame(columns=['Algorithm', 'Dataset', 'Retention %'])\n",
    "data.loc[:, 'Algorithm'] = tools * 3\n",
    "data.loc[:, 'Dataset'] = ['Stereo-seq mouse brain'] * len(tools) + ['Visium mouse brain'] * len(tools) + ['Slide-seq-V2 mouse kidney'] * len(tools)\n",
    "data.loc[:, 'Retention %'] = top_100_L5 + top_100_visium + top_100_kidney\n",
    "\n",
    "data\n",
    "\n",
    "fig, ax = plt.subplots(figsize=(12,9))\n",
    "sns.barplot(data=data, x='Dataset', y='Retention %', hue='Algorithm', palette='Accent', ax=ax)\n",
    "ax.set_frame_on(False)\n",
    "plt.title('Retention percentage of the top 100 scRNA genes', size=16)\n",
    "plt.savefig('top100.png', bbox_inches='tight', dpi=100)\n"
   ]
  },
  {
   "cell_type": "code",
   "execution_count": 40,
   "id": "b1e7e05c",
   "metadata": {},
   "outputs": [
    {
     "data": {
      "image/png": "[encoded data removed]",
      "text/plain": [
       "<Figure size 864x648 with 1 Axes>"
      ]
     },
     "metadata": {
      "needs_background": "light"
     },
     "output_type": "display_data"
    }
   ],
   "source": [
    "tools = ['Tangram', 'Spatial-ID', 'CytoSpace', 'Seurat', 'RCTD', 'SSI dist']\n",
    "non_ubiquitous_L5 = [ 46.47, 21.46, 48.39, 0, 0, 50.9]\n",
    "non_ubiquitous_visium = [ 34.6, 0, 35.13, 43.1, 43, 34.51]\n",
    "non_ubiquitous_kidney = [0, 0, 0, 0, 0, 47.86]\n",
    "\n",
    "data = pd.DataFrame(columns=['Algorithm', 'Dataset', 'Retention %'])\n",
    "data.loc[:, 'Algorithm'] = tools * 3\n",
    "data.loc[:, 'Dataset'] = ['Stereo-seq mouse brain'] * len(tools) + ['Visium mouse brain'] * len(tools) + ['Slide-seq-V2 mouse kidney'] * len(tools)\n",
    "data.loc[:, 'Retention %'] = non_ubiquitous_L5 + non_ubiquitous_visium + non_ubiquitous_kidney\n",
    "\n",
    "data\n",
    "\n",
    "fig, ax = plt.subplots(figsize=(12,9))\n",
    "sns.barplot(data=data, x='Dataset', y='Retention %', hue='Algorithm', palette='Accent', ax=ax)\n",
    "ax.set_frame_on(False)\n",
    "plt.title('Retention percentage of the non-ubiquitous scRNA genes', size=16)\n",
    "plt.savefig('non_ubiquitous.png', bbox_inches='tight', dpi=100)\n"
   ]
  },
  {
   "cell_type": "code",
   "execution_count": null,
   "id": "0f807f81",
   "metadata": {},
   "outputs": [],
   "source": []
  }
 ],
 "metadata": {
  "kernelspec": {
   "display_name": "Python 3 (ipykernel)",
   "language": "python",
   "name": "python3"
  },
  "language_info": {
   "codemirror_mode": {
    "name": "ipython",
    "version": 3
   },
   "file_extension": ".py",
   "mimetype": "text/x-python",
   "name": "python",
   "nbconvert_exporter": "python",
   "pygments_lexer": "ipython3",
   "version": "3.9.12"
  }
 },
 "nbformat": 4,
 "nbformat_minor": 5
}
